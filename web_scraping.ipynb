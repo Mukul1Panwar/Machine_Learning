{
  "nbformat": 4,
  "nbformat_minor": 0,
  "metadata": {
    "colab": {
      "provenance": [],
      "authorship_tag": "ABX9TyMBuYyloB23H1NBvHD5Zhy7",
      "include_colab_link": true
    },
    "kernelspec": {
      "name": "python3",
      "display_name": "Python 3"
    },
    "language_info": {
      "name": "python"
    }
  },
  "cells": [
    {
      "cell_type": "markdown",
      "metadata": {
        "id": "view-in-github",
        "colab_type": "text"
      },
      "source": [
        "<a href=\"https://colab.research.google.com/github/Mukul1Panwar/Machine_Learning/blob/main/web_scraping.ipynb\" target=\"_parent\"><img src=\"https://colab.research.google.com/assets/colab-badge.svg\" alt=\"Open In Colab\"/></a>"
      ]
    },
    {
      "cell_type": "code",
      "execution_count": 1,
      "metadata": {
        "id": "0PDHPjlNvGKL"
      },
      "outputs": [],
      "source": [
        "import requests\n",
        "import pandas as pd\n",
        "import numpy as np\n",
        "import bs4\n",
        "from bs4 import BeautifulSoup"
      ]
    },
    {
      "cell_type": "code",
      "source": [
        "web = \"https://www.cars24.com/new-cars/kia/\""
      ],
      "metadata": {
        "id": "1W2LcoJrvVnR"
      },
      "execution_count": 4,
      "outputs": []
    },
    {
      "cell_type": "code",
      "source": [
        "response = requests.get(web)"
      ],
      "metadata": {
        "id": "TaMNYKLbvhUH"
      },
      "execution_count": 5,
      "outputs": []
    },
    {
      "cell_type": "code",
      "source": [
        "print(\"web status : \",response)"
      ],
      "metadata": {
        "colab": {
          "base_uri": "https://localhost:8080/"
        },
        "id": "OLWq1EgQv6Hi",
        "outputId": "b01fbd59-0acf-497e-ad53-d8045a7d34cf"
      },
      "execution_count": 6,
      "outputs": [
        {
          "output_type": "stream",
          "name": "stdout",
          "text": [
            "web status :  <Response [200]>\n"
          ]
        }
      ]
    },
    {
      "cell_type": "code",
      "source": [
        "soup = BeautifulSoup(response.content,\"html.parser\")"
      ],
      "metadata": {
        "id": "WKBV4l6tv7tT"
      },
      "execution_count": 7,
      "outputs": []
    },
    {
      "cell_type": "code",
      "source": [
        "# print(soup)"
      ],
      "metadata": {
        "id": "slF0mLPJwK1D"
      },
      "execution_count": 24,
      "outputs": []
    },
    {
      "cell_type": "code",
      "source": [
        "results = soup.find_all(\"div\",{'class':\"relative flex flex-col lg:w-[calc(100%-300px)] md:order-1 lg:order-2 justify-between cursor-pointer\"})"
      ],
      "metadata": {
        "id": "BJYrEeCiwMjk"
      },
      "execution_count": 9,
      "outputs": []
    },
    {
      "cell_type": "code",
      "source": [
        "len(results)"
      ],
      "metadata": {
        "colab": {
          "base_uri": "https://localhost:8080/"
        },
        "id": "7y4MqAy8wutS",
        "outputId": "b1d06949-4533-48b7-9b00-bd508d7d5bf0"
      },
      "execution_count": 10,
      "outputs": [
        {
          "output_type": "execute_result",
          "data": {
            "text/plain": [
              "18"
            ]
          },
          "metadata": {},
          "execution_count": 10
        }
      ]
    },
    {
      "cell_type": "code",
      "source": [
        "results[0]"
      ],
      "metadata": {
        "colab": {
          "base_uri": "https://localhost:8080/"
        },
        "id": "Dlgy6z99wvQf",
        "outputId": "2edf5938-406a-4083-82e5-a6c5eb7b5f1b"
      },
      "execution_count": 11,
      "outputs": [
        {
          "output_type": "execute_result",
          "data": {
            "text/plain": [
              "<div class=\"relative flex flex-col lg:w-[calc(100%-300px)] md:order-1 lg:order-2 justify-between cursor-pointer\"><a aria-label=\"View details of Kia Sonet\" class=\"absolute inset-0 z-[1]\" data-event-el-id=\"1342\" data-event-make-name=\"Kia\" data-event-model-name=\"Sonet\" href=\"/new-cars/kia/sonet/\"></a> <div class=\"flex justify-between items-center mx-4 lg:mx-0 mb-3 lg:mb-0\"><h3 class=\"flex flex-col\"><span class=\"text-xs md:text-sm whitespace-nowrap mb-1 text-darkGrey leading-4 md:leading-[14px] break-words font-medium\">Kia </span><span class=\"md:leading-[26px] !leading-[26px] break-words text-lg md:text-lg font-medium text-primary\">Sonet</span></h3><div class=\"flex flex-col items-end\"><span class=\"font-semibold text-primary md:text-lg md:leading-[26px] mb-1 !leading-[26px] text-lg break-words\">₹8.00L - 15.77L</span><span class=\"font-normal md:text-sm md:leading-4 whitespace-nowrap text-xs text-darkGrey !leading-[14px] break-words\">Ex-showroom</span></div></div><div class=\"relative lg:hidden\"><!--$!--><template data-dgst=\"BAILOUT_TO_CLIENT_SIDE_RENDERING\"></template><div class=\"w-full md:h-[184px] [@media(min-width:1024px)]:w-[420px] [@media(min-width:1024px)]:h-[241px] [@media(min-width:1220px)]:w-[395px] [@media(min-width:1220px)]:h-[241px] aspect-video overflow-hidden\"></div><!--/$--></div><div class=\"flex justify-between mt-3 lg:mt-2.5 gap-0 lg:gap-5\"><div class=\"flex flex-col items-center lg:items-start w-1/3 border-r border-gray-300\"><span class=\"font-medium text-primary md:text-sm text-sm truncate max-w-[100px] [@media(min-width:375px)]:max-w-[114px] leading-tight\">250 Nm</span><span class=\"font-normal text-nickel md:text-sm md:leading-4 whitespace-nowrap text-xs truncate max-w-[100px] [@media(min-width:375px)]:max-w-[114px] leading-[14px]\">Max Torque</span></div><div class=\"flex flex-col items-center lg:items-start w-1/3 border-r border-gray-300\"><span class=\"font-medium text-primary md:text-sm text-sm truncate max-w-[100px] [@media(min-width:375px)]:max-w-[114px] leading-tight\">SUV </span><span class=\"font-normal text-nickel md:text-sm md:leading-4 whitespace-nowrap text-xs truncate max-w-[100px] [@media(min-width:375px)]:max-w-[114px] leading-[14px]\">Body Type</span></div><div class=\"flex flex-col items-center lg:items-start w-1/3\"><span class=\"font-medium text-primary md:text-sm text-sm truncate max-w-[100px] [@media(min-width:375px)]:max-w-[114px] leading-tight\">5 </span><span class=\"font-normal text-nickel md:text-sm md:leading-4 whitespace-nowrap text-xs truncate max-w-[100px] [@media(min-width:375px)]:max-w-[114px] leading-[14px]\">Seating Capacity</span></div></div><ul class=\"text-gray-600 text-sm px-4 lg:px-0 mb-2 lg:mb-3 mt-4 lg:mt-3\"><li class=\"mb-2 md:mb-1.5\"><div class=\"flex gap-1.5 items-center\"><svg class=\"w-[14px] h-[14px] lg:w-4 lg:h-4 text-[#daf5f3]\" color=\"#0c6a64\" fill=\"none\" height=\"20\" viewbox=\"0 0 20 20\" width=\"20\" xmlns=\"http://www.w3.org/2000/svg\"><path d=\"M10 1.875A8.125 8.125 0 1018.125 10 8.133 8.133 0 0010 1.875z\" fill=\"currentColor\"></path><path d=\"M13.567 8.567l-4.375 4.375a.626.626 0 01-.884 0l-1.875-1.875a.625.625 0 11.884-.884l1.433 1.433 3.933-3.933a.626.626 0 01.884.884z\" fill=\"#0c6a64\"></path></svg><span class=\"font-normal md:text-xs text-darkGrey text-xs leading-[18px]\">Feature-rich compact SUV</span></div></li><li class=\"mb-2 md:mb-1.5\"><div class=\"flex gap-1.5 items-center\"><svg class=\"w-[14px] h-[14px] lg:w-4 lg:h-4 text-[#daf5f3]\" color=\"#0c6a64\" fill=\"none\" height=\"20\" viewbox=\"0 0 20 20\" width=\"20\" xmlns=\"http://www.w3.org/2000/svg\"><path d=\"M10 1.875A8.125 8.125 0 1018.125 10 8.133 8.133 0 0010 1.875z\" fill=\"currentColor\"></path><path d=\"M13.567 8.567l-4.375 4.375a.626.626 0 01-.884 0l-1.875-1.875a.625.625 0 11.884-.884l1.433 1.433 3.933-3.933a.626.626 0 01.884.884z\" fill=\"#0c6a64\"></path></svg><span class=\"font-normal md:text-xs text-darkGrey text-xs leading-[18px]\">Stylish design</span></div></li><li class=\"mb-2 md:mb-1.5\"><div class=\"flex gap-1.5 items-center\"><svg class=\"w-[14px] h-[14px] lg:w-4 lg:h-4 text-[#daf5f3]\" color=\"#0c6a64\" fill=\"none\" height=\"20\" viewbox=\"0 0 20 20\" width=\"20\" xmlns=\"http://www.w3.org/2000/svg\"><path d=\"M10 1.875A8.125 8.125 0 1018.125 10 8.133 8.133 0 0010 1.875z\" fill=\"currentColor\"></path><path d=\"M13.567 8.567l-4.375 4.375a.626.626 0 01-.884 0l-1.875-1.875a.625.625 0 11.884-.884l1.433 1.433 3.933-3.933a.626.626 0 01.884.884z\" fill=\"#0c6a64\"></path></svg><span class=\"font-normal md:text-xs text-darkGrey text-xs leading-[18px]\">Value-packed choice</span></div></li></ul><div class=\"flex gap-4 px-4 lg:px-0\"><button class=\"rounded-lg justify-center items-center font-semibold md:leading-tight text-xs bg-secondary text-primary md:hover:bg-mercury w-5/12 sm:w-1/2 flex gap-1.5 min-w-0 py-3 px-0 pl-2.5 pr-3 z-10\" id=\"compare-btn-1342\"><input class=\"appearance-none flex items-center justify-center p-0.5 bg-white rounded border cursor-pointer checked:bg-[length:12px_12px] w-4 h-4 border-lightSilver md:hover:border-primary\" id=\"compare-checkbox-1342\" type=\"checkbox\"/><label for=\"compare-checkbox-1342\">Compare</label></button><button class=\"rounded-lg flex justify-center items-center gap-2 font-semibold md:leading-tight px-4 text-xs bg-primary text-white md:hover:bg-neutral-800 w-7/12 sm:w-1/2 min-w-0 py-3 pl-3 pr-3 z-10\" id=\"lead-btn-1342\">Grab hot deals</button></div></div>"
            ]
          },
          "metadata": {},
          "execution_count": 11
        }
      ]
    },
    {
      "cell_type": "code",
      "source": [
        "#Torque\n",
        "car_torque = results[0].find('span',{\"class\":\"font-medium text-primary md:text-sm text-sm truncate max-w-[100px] [@media(min-width:375px)]:max-w-[114px] leading-tight\"})\n",
        "print(car_torque.text)"
      ],
      "metadata": {
        "colab": {
          "base_uri": "https://localhost:8080/"
        },
        "id": "yfpscvFplBYT",
        "outputId": "c34695f6-8989-40a5-dce3-af6c86e9e69c"
      },
      "execution_count": 12,
      "outputs": [
        {
          "output_type": "stream",
          "name": "stdout",
          "text": [
            "250 Nm\n"
          ]
        }
      ]
    },
    {
      "cell_type": "code",
      "source": [
        "# Car Brand\n",
        "car_brand = results[0].find('a',{\"class\":\"absolute inset-0 z-[1]\"})['data-event-make-name']\n",
        "print(car_brand)"
      ],
      "metadata": {
        "colab": {
          "base_uri": "https://localhost:8080/"
        },
        "id": "7hrmw1QRkTSn",
        "outputId": "e76eb4b8-253e-469b-eff1-b36b73f2097c"
      },
      "execution_count": 13,
      "outputs": [
        {
          "output_type": "stream",
          "name": "stdout",
          "text": [
            "Kia\n"
          ]
        }
      ]
    },
    {
      "cell_type": "code",
      "source": [
        "# Price Type (ex-showroom)\n",
        "price_type = results[0].find('span',{\"class\":\"font-normal md:text-sm md:leading-4 whitespace-nowrap text-xs text-darkGrey !leading-[14px] break-words\"})\n",
        "print(price_type.text)"
      ],
      "metadata": {
        "id": "VM6AXA61aqqO",
        "colab": {
          "base_uri": "https://localhost:8080/"
        },
        "outputId": "aeab37d8-b6bd-4384-d662-20c8ce56c999"
      },
      "execution_count": 14,
      "outputs": [
        {
          "output_type": "stream",
          "name": "stdout",
          "text": [
            "Ex-showroom\n"
          ]
        }
      ]
    },
    {
      "cell_type": "code",
      "source": [
        "# car's url\n",
        "car_url = results[0].find('a',{'class':'absolute inset-0 z-[1]'})['href']\n",
        "print(car_url)"
      ],
      "metadata": {
        "colab": {
          "base_uri": "https://localhost:8080/"
        },
        "id": "z3G5YvR4ZuH5",
        "outputId": "c159cd6e-916d-49fa-a108-7d1f3b3e24b8"
      },
      "execution_count": 15,
      "outputs": [
        {
          "output_type": "stream",
          "name": "stdout",
          "text": [
            "/new-cars/kia/sonet/\n"
          ]
        }
      ]
    },
    {
      "cell_type": "code",
      "source": [
        "# sitting capacity\n",
        "specs_div = results[0].find(\"div\", {'class': \"flex justify-between mt-3 lg:mt-2.5 gap-0 lg:gap-5\"})\n",
        "sitting_capacity_div = specs_div.find_all(\"div\")[2] # third div (index starts at 0)\n",
        "sitting_capacity = sitting_capacity_div.find(\"span\")\n",
        "print(sitting_capacity.text)"
      ],
      "metadata": {
        "colab": {
          "base_uri": "https://localhost:8080/"
        },
        "id": "GicWe1VvO6Yt",
        "outputId": "d77ec317-b673-4c7c-fddf-44b97f023979"
      },
      "execution_count": 16,
      "outputs": [
        {
          "output_type": "stream",
          "name": "stdout",
          "text": [
            "5 \n"
          ]
        }
      ]
    },
    {
      "cell_type": "code",
      "source": [
        "# car body type\n",
        "specs_div = results[5].find(\"div\", {'class': \"flex justify-between mt-3 lg:mt-2.5 gap-0 lg:gap-5\"})\n",
        "body_type_div = specs_div.find_all(\"div\")[1] # second div (index starts at 0)\n",
        "\n",
        "body_type = body_type_div.find(\"span\")\n",
        "print(body_type.text)"
      ],
      "metadata": {
        "colab": {
          "base_uri": "https://localhost:8080/"
        },
        "id": "J2A9NfsbAUio",
        "outputId": "d2a23461-44d5-47a4-9c8e-b7adcb152f02"
      },
      "execution_count": 17,
      "outputs": [
        {
          "output_type": "stream",
          "name": "stdout",
          "text": [
            "8 \n"
          ]
        }
      ]
    },
    {
      "cell_type": "code",
      "source": [
        "# price range in ex-showroom\n",
        "car_price = results[0].find('span',{'font-semibold text-primary md:text-lg md:leading-[26px] mb-1 !leading-[26px] text-lg break-words'})\n",
        "print (car_price.text)"
      ],
      "metadata": {
        "colab": {
          "base_uri": "https://localhost:8080/"
        },
        "id": "TytncT8H-hR7",
        "outputId": "f21e8192-b31b-417d-e7ad-50f107c9062b"
      },
      "execution_count": 18,
      "outputs": [
        {
          "output_type": "stream",
          "name": "stdout",
          "text": [
            "₹8.00L - 15.77L\n"
          ]
        }
      ]
    },
    {
      "cell_type": "code",
      "source": [
        "# car name\n",
        "car_name = results[0].find('a',{'class':\"absolute inset-0 z-[1]\"})['data-event-model-name']\n",
        "print(car_name)"
      ],
      "metadata": {
        "colab": {
          "base_uri": "https://localhost:8080/"
        },
        "id": "8hmB2oOkzvSX",
        "outputId": "451bffc1-dd06-456e-dc43-3c6c4a93845e"
      },
      "execution_count": 19,
      "outputs": [
        {
          "output_type": "stream",
          "name": "stdout",
          "text": [
            "Sonet\n"
          ]
        }
      ]
    },
    {
      "cell_type": "code",
      "source": [
        "# location\n",
        "location = soup.find('button',{'aria-label':\"change city\"}).find('p').text\n",
        "print(location)"
      ],
      "metadata": {
        "colab": {
          "base_uri": "https://localhost:8080/"
        },
        "id": "ZiFvBgpjXi1W",
        "outputId": "f9a05e5a-4e5c-4c7a-f424-e3cabffdcf41"
      },
      "execution_count": 20,
      "outputs": [
        {
          "output_type": "stream",
          "name": "stdout",
          "text": [
            "new-delhi\n"
          ]
        }
      ]
    },
    {
      "cell_type": "code",
      "source": [
        "car_details = {\n",
        "    'car_brand':[],\n",
        "    'car_name': [],\n",
        "    'car_price': [],\n",
        "    \"price_type\":[],\n",
        "    'location':[],\n",
        "    \"car's url\":[]\n",
        "\n",
        "}\n"
      ],
      "metadata": {
        "id": "Kk8yrtE_5eqp"
      },
      "execution_count": 21,
      "outputs": []
    },
    {
      "cell_type": "code",
      "source": [
        "\n",
        "for i in range(len(results)):\n",
        "\n",
        "  cars = results[i].find('a',{'class':\"absolute inset-0 z-[1]\"})\n",
        "\n",
        "  car_name = cars['data-event-model-name']\n",
        "  car_details['car_name'].append(car_name)\n",
        "\n",
        "  car_url = cars['href']\n",
        "  car_details[\"car's url\"].append(car_url)\n",
        "\n",
        "  car_brand = cars[\"data-event-make-name\"]\n",
        "  car_details['car_brand'].append(car_brand)\n",
        "\n",
        "  car_price = results[i].find('span',{\"class\":'font-semibold text-primary md:text-lg md:leading-[26px] mb-1 !leading-[26px] text-lg break-words'})\n",
        "  car_price = car_price.get_text(strip=True) if car_price else None\n",
        "  car_details['car_price'].append(car_price)\n",
        "\n",
        "  location = soup.find('button',{'aria-label':\"change city\"}).find('p').get_text(strip=True)\n",
        "  car_details['location'].append(location)\n",
        "\n",
        "  price_type = results[i].find('span',{\"class\":\"font-normal md:text-sm md:leading-4 whitespace-nowrap text-xs text-darkGrey !leading-[14px] break-words\"})\n",
        "  price_type = price_type.get_text(strip=True) if price_type else None\n",
        "  car_details['price_type'].append(price_type)\n",
        "\n"
      ],
      "metadata": {
        "id": "Lw0lrPr4R64V"
      },
      "execution_count": 22,
      "outputs": []
    },
    {
      "cell_type": "code",
      "source": [
        "car_details"
      ],
      "metadata": {
        "colab": {
          "base_uri": "https://localhost:8080/"
        },
        "id": "ImC60FRk4CMz",
        "outputId": "3cd79721-fe2e-4e8b-8e98-54ad711c7b36",
        "collapsed": true
      },
      "execution_count": 23,
      "outputs": [
        {
          "output_type": "execute_result",
          "data": {
            "text/plain": [
              "{'car_brand': ['Kia',\n",
              "  'Kia',\n",
              "  'Kia',\n",
              "  'Kia',\n",
              "  'Kia',\n",
              "  'Kia',\n",
              "  'Kia',\n",
              "  'Kia',\n",
              "  'Kia',\n",
              "  'Kia',\n",
              "  'Kia',\n",
              "  'Kia',\n",
              "  'Kia',\n",
              "  'Kia',\n",
              "  'Kia',\n",
              "  'Kia',\n",
              "  'Kia',\n",
              "  'Kia'],\n",
              " 'car_name': ['Sonet',\n",
              "  'Carens',\n",
              "  'Seltos',\n",
              "  'Syros',\n",
              "  'Carnival',\n",
              "  'EV9',\n",
              "  'EV6',\n",
              "  'Carens Clavis',\n",
              "  'Carens Clavis EV',\n",
              "  'Sorento',\n",
              "  'EV3',\n",
              "  'Tasman',\n",
              "  'Seltos Facelift',\n",
              "  'Carens Facelift',\n",
              "  'Sportage',\n",
              "  'Stonic',\n",
              "  'Sonet 2020-2023',\n",
              "  'EV6 2022-2024'],\n",
              " 'car_price': ['₹8.00L - 15.77L',\n",
              "  '₹10.52L - 19.94L',\n",
              "  '₹10.90L - 20.56L',\n",
              "  '₹9.50L - 17.80L',\n",
              "  '₹63.91L',\n",
              "  '₹1.30Cr',\n",
              "  '₹65.97L',\n",
              "  '₹11.50L - 21.50L',\n",
              "  '₹17.99L - 24.49L',\n",
              "  '₹25L - 33L',\n",
              "  '₹30L - 37L',\n",
              "  '₹30L - 40L',\n",
              "  '₹12L - 22L',\n",
              "  '₹12L - 19L',\n",
              "  '₹25L - 30L',\n",
              "  '₹9L - 10L',\n",
              "  '₹7.79L - 14.89L',\n",
              "  '₹60.95L - 65.95L'],\n",
              " 'price_type': ['Ex-showroom',\n",
              "  'Ex-showroom',\n",
              "  'Ex-showroom',\n",
              "  'Ex-showroom',\n",
              "  'Ex-showroom',\n",
              "  'Ex-showroom',\n",
              "  'Ex-showroom',\n",
              "  'Ex-showroom',\n",
              "  'Ex-showroom',\n",
              "  'Ex-showroom',\n",
              "  'Ex-showroom',\n",
              "  'Ex-showroom',\n",
              "  'Ex-showroom',\n",
              "  'Ex-showroom',\n",
              "  'Ex-showroom',\n",
              "  'Ex-showroom',\n",
              "  'Ex-showroom',\n",
              "  'Ex-showroom'],\n",
              " 'location': ['new-delhi',\n",
              "  'new-delhi',\n",
              "  'new-delhi',\n",
              "  'new-delhi',\n",
              "  'new-delhi',\n",
              "  'new-delhi',\n",
              "  'new-delhi',\n",
              "  'new-delhi',\n",
              "  'new-delhi',\n",
              "  'new-delhi',\n",
              "  'new-delhi',\n",
              "  'new-delhi',\n",
              "  'new-delhi',\n",
              "  'new-delhi',\n",
              "  'new-delhi',\n",
              "  'new-delhi',\n",
              "  'new-delhi',\n",
              "  'new-delhi'],\n",
              " \"car's url\": ['/new-cars/kia/sonet/',\n",
              "  '/new-cars/kia/carens/',\n",
              "  '/new-cars/kia/seltos/',\n",
              "  '/new-cars/kia/syros/',\n",
              "  '/new-cars/kia/carnival/',\n",
              "  '/new-cars/kia/ev9/',\n",
              "  '/new-cars/kia/ev6/',\n",
              "  '/new-cars/kia/carens-clavis/',\n",
              "  '/new-cars/kia/carens-clavis-ev/',\n",
              "  '/new-cars/kia/sorento/',\n",
              "  '/new-cars/kia/ev3/',\n",
              "  '/new-cars/kia/tasman/',\n",
              "  '/new-cars/kia/seltos-facelift/',\n",
              "  '/new-cars/kia/carens-facelift/',\n",
              "  '/new-cars/kia/sportage/',\n",
              "  '/new-cars/kia/stonic/',\n",
              "  '/new-cars/kia/sonet-2020-2023/',\n",
              "  '/new-cars/kia/ev6-2022-2024/']}"
            ]
          },
          "metadata": {},
          "execution_count": 23
        }
      ]
    },
    {
      "cell_type": "code",
      "source": [
        "df = pd.DataFrame(car_details)\n",
        "df.to_csv('car_details.csv',index=False,encoding='utf-8-sig')\n"
      ],
      "metadata": {
        "id": "SS8xogkQ2f-Z"
      },
      "execution_count": 26,
      "outputs": []
    },
    {
      "cell_type": "code",
      "source": [
        "df.shape"
      ],
      "metadata": {
        "colab": {
          "base_uri": "https://localhost:8080/"
        },
        "id": "Jw7PwG-56gOY",
        "outputId": "13877969-599e-4175-cb48-dbb06445f2ee"
      },
      "execution_count": 27,
      "outputs": [
        {
          "output_type": "execute_result",
          "data": {
            "text/plain": [
              "(18, 6)"
            ]
          },
          "metadata": {},
          "execution_count": 27
        }
      ]
    },
    {
      "cell_type": "code",
      "source": [
        "df.head()"
      ],
      "metadata": {
        "colab": {
          "base_uri": "https://localhost:8080/",
          "height": 206
        },
        "id": "z48qNHUchjkk",
        "outputId": "0b31a3d7-445f-4733-8e4d-1ddad70b2074"
      },
      "execution_count": 28,
      "outputs": [
        {
          "output_type": "execute_result",
          "data": {
            "text/plain": [
              "  car_brand  car_name         car_price   price_type   location  \\\n",
              "0       Kia     Sonet   ₹8.00L - 15.77L  Ex-showroom  new-delhi   \n",
              "1       Kia    Carens  ₹10.52L - 19.94L  Ex-showroom  new-delhi   \n",
              "2       Kia    Seltos  ₹10.90L - 20.56L  Ex-showroom  new-delhi   \n",
              "3       Kia     Syros   ₹9.50L - 17.80L  Ex-showroom  new-delhi   \n",
              "4       Kia  Carnival           ₹63.91L  Ex-showroom  new-delhi   \n",
              "\n",
              "                 car's url  \n",
              "0     /new-cars/kia/sonet/  \n",
              "1    /new-cars/kia/carens/  \n",
              "2    /new-cars/kia/seltos/  \n",
              "3     /new-cars/kia/syros/  \n",
              "4  /new-cars/kia/carnival/  "
            ],
            "text/html": [
              "\n",
              "  <div id=\"df-9c3e428f-39ca-45ca-af3b-2795bbb21623\" class=\"colab-df-container\">\n",
              "    <div>\n",
              "<style scoped>\n",
              "    .dataframe tbody tr th:only-of-type {\n",
              "        vertical-align: middle;\n",
              "    }\n",
              "\n",
              "    .dataframe tbody tr th {\n",
              "        vertical-align: top;\n",
              "    }\n",
              "\n",
              "    .dataframe thead th {\n",
              "        text-align: right;\n",
              "    }\n",
              "</style>\n",
              "<table border=\"1\" class=\"dataframe\">\n",
              "  <thead>\n",
              "    <tr style=\"text-align: right;\">\n",
              "      <th></th>\n",
              "      <th>car_brand</th>\n",
              "      <th>car_name</th>\n",
              "      <th>car_price</th>\n",
              "      <th>price_type</th>\n",
              "      <th>location</th>\n",
              "      <th>car's url</th>\n",
              "    </tr>\n",
              "  </thead>\n",
              "  <tbody>\n",
              "    <tr>\n",
              "      <th>0</th>\n",
              "      <td>Kia</td>\n",
              "      <td>Sonet</td>\n",
              "      <td>₹8.00L - 15.77L</td>\n",
              "      <td>Ex-showroom</td>\n",
              "      <td>new-delhi</td>\n",
              "      <td>/new-cars/kia/sonet/</td>\n",
              "    </tr>\n",
              "    <tr>\n",
              "      <th>1</th>\n",
              "      <td>Kia</td>\n",
              "      <td>Carens</td>\n",
              "      <td>₹10.52L - 19.94L</td>\n",
              "      <td>Ex-showroom</td>\n",
              "      <td>new-delhi</td>\n",
              "      <td>/new-cars/kia/carens/</td>\n",
              "    </tr>\n",
              "    <tr>\n",
              "      <th>2</th>\n",
              "      <td>Kia</td>\n",
              "      <td>Seltos</td>\n",
              "      <td>₹10.90L - 20.56L</td>\n",
              "      <td>Ex-showroom</td>\n",
              "      <td>new-delhi</td>\n",
              "      <td>/new-cars/kia/seltos/</td>\n",
              "    </tr>\n",
              "    <tr>\n",
              "      <th>3</th>\n",
              "      <td>Kia</td>\n",
              "      <td>Syros</td>\n",
              "      <td>₹9.50L - 17.80L</td>\n",
              "      <td>Ex-showroom</td>\n",
              "      <td>new-delhi</td>\n",
              "      <td>/new-cars/kia/syros/</td>\n",
              "    </tr>\n",
              "    <tr>\n",
              "      <th>4</th>\n",
              "      <td>Kia</td>\n",
              "      <td>Carnival</td>\n",
              "      <td>₹63.91L</td>\n",
              "      <td>Ex-showroom</td>\n",
              "      <td>new-delhi</td>\n",
              "      <td>/new-cars/kia/carnival/</td>\n",
              "    </tr>\n",
              "  </tbody>\n",
              "</table>\n",
              "</div>\n",
              "    <div class=\"colab-df-buttons\">\n",
              "\n",
              "  <div class=\"colab-df-container\">\n",
              "    <button class=\"colab-df-convert\" onclick=\"convertToInteractive('df-9c3e428f-39ca-45ca-af3b-2795bbb21623')\"\n",
              "            title=\"Convert this dataframe to an interactive table.\"\n",
              "            style=\"display:none;\">\n",
              "\n",
              "  <svg xmlns=\"http://www.w3.org/2000/svg\" height=\"24px\" viewBox=\"0 -960 960 960\">\n",
              "    <path d=\"M120-120v-720h720v720H120Zm60-500h600v-160H180v160Zm220 220h160v-160H400v160Zm0 220h160v-160H400v160ZM180-400h160v-160H180v160Zm440 0h160v-160H620v160ZM180-180h160v-160H180v160Zm440 0h160v-160H620v160Z\"/>\n",
              "  </svg>\n",
              "    </button>\n",
              "\n",
              "  <style>\n",
              "    .colab-df-container {\n",
              "      display:flex;\n",
              "      gap: 12px;\n",
              "    }\n",
              "\n",
              "    .colab-df-convert {\n",
              "      background-color: #E8F0FE;\n",
              "      border: none;\n",
              "      border-radius: 50%;\n",
              "      cursor: pointer;\n",
              "      display: none;\n",
              "      fill: #1967D2;\n",
              "      height: 32px;\n",
              "      padding: 0 0 0 0;\n",
              "      width: 32px;\n",
              "    }\n",
              "\n",
              "    .colab-df-convert:hover {\n",
              "      background-color: #E2EBFA;\n",
              "      box-shadow: 0px 1px 2px rgba(60, 64, 67, 0.3), 0px 1px 3px 1px rgba(60, 64, 67, 0.15);\n",
              "      fill: #174EA6;\n",
              "    }\n",
              "\n",
              "    .colab-df-buttons div {\n",
              "      margin-bottom: 4px;\n",
              "    }\n",
              "\n",
              "    [theme=dark] .colab-df-convert {\n",
              "      background-color: #3B4455;\n",
              "      fill: #D2E3FC;\n",
              "    }\n",
              "\n",
              "    [theme=dark] .colab-df-convert:hover {\n",
              "      background-color: #434B5C;\n",
              "      box-shadow: 0px 1px 3px 1px rgba(0, 0, 0, 0.15);\n",
              "      filter: drop-shadow(0px 1px 2px rgba(0, 0, 0, 0.3));\n",
              "      fill: #FFFFFF;\n",
              "    }\n",
              "  </style>\n",
              "\n",
              "    <script>\n",
              "      const buttonEl =\n",
              "        document.querySelector('#df-9c3e428f-39ca-45ca-af3b-2795bbb21623 button.colab-df-convert');\n",
              "      buttonEl.style.display =\n",
              "        google.colab.kernel.accessAllowed ? 'block' : 'none';\n",
              "\n",
              "      async function convertToInteractive(key) {\n",
              "        const element = document.querySelector('#df-9c3e428f-39ca-45ca-af3b-2795bbb21623');\n",
              "        const dataTable =\n",
              "          await google.colab.kernel.invokeFunction('convertToInteractive',\n",
              "                                                    [key], {});\n",
              "        if (!dataTable) return;\n",
              "\n",
              "        const docLinkHtml = 'Like what you see? Visit the ' +\n",
              "          '<a target=\"_blank\" href=https://colab.research.google.com/notebooks/data_table.ipynb>data table notebook</a>'\n",
              "          + ' to learn more about interactive tables.';\n",
              "        element.innerHTML = '';\n",
              "        dataTable['output_type'] = 'display_data';\n",
              "        await google.colab.output.renderOutput(dataTable, element);\n",
              "        const docLink = document.createElement('div');\n",
              "        docLink.innerHTML = docLinkHtml;\n",
              "        element.appendChild(docLink);\n",
              "      }\n",
              "    </script>\n",
              "  </div>\n",
              "\n",
              "\n",
              "    <div id=\"df-33cbf965-6b62-4e1f-805d-0f8791a1c35f\">\n",
              "      <button class=\"colab-df-quickchart\" onclick=\"quickchart('df-33cbf965-6b62-4e1f-805d-0f8791a1c35f')\"\n",
              "                title=\"Suggest charts\"\n",
              "                style=\"display:none;\">\n",
              "\n",
              "<svg xmlns=\"http://www.w3.org/2000/svg\" height=\"24px\"viewBox=\"0 0 24 24\"\n",
              "     width=\"24px\">\n",
              "    <g>\n",
              "        <path d=\"M19 3H5c-1.1 0-2 .9-2 2v14c0 1.1.9 2 2 2h14c1.1 0 2-.9 2-2V5c0-1.1-.9-2-2-2zM9 17H7v-7h2v7zm4 0h-2V7h2v10zm4 0h-2v-4h2v4z\"/>\n",
              "    </g>\n",
              "</svg>\n",
              "      </button>\n",
              "\n",
              "<style>\n",
              "  .colab-df-quickchart {\n",
              "      --bg-color: #E8F0FE;\n",
              "      --fill-color: #1967D2;\n",
              "      --hover-bg-color: #E2EBFA;\n",
              "      --hover-fill-color: #174EA6;\n",
              "      --disabled-fill-color: #AAA;\n",
              "      --disabled-bg-color: #DDD;\n",
              "  }\n",
              "\n",
              "  [theme=dark] .colab-df-quickchart {\n",
              "      --bg-color: #3B4455;\n",
              "      --fill-color: #D2E3FC;\n",
              "      --hover-bg-color: #434B5C;\n",
              "      --hover-fill-color: #FFFFFF;\n",
              "      --disabled-bg-color: #3B4455;\n",
              "      --disabled-fill-color: #666;\n",
              "  }\n",
              "\n",
              "  .colab-df-quickchart {\n",
              "    background-color: var(--bg-color);\n",
              "    border: none;\n",
              "    border-radius: 50%;\n",
              "    cursor: pointer;\n",
              "    display: none;\n",
              "    fill: var(--fill-color);\n",
              "    height: 32px;\n",
              "    padding: 0;\n",
              "    width: 32px;\n",
              "  }\n",
              "\n",
              "  .colab-df-quickchart:hover {\n",
              "    background-color: var(--hover-bg-color);\n",
              "    box-shadow: 0 1px 2px rgba(60, 64, 67, 0.3), 0 1px 3px 1px rgba(60, 64, 67, 0.15);\n",
              "    fill: var(--button-hover-fill-color);\n",
              "  }\n",
              "\n",
              "  .colab-df-quickchart-complete:disabled,\n",
              "  .colab-df-quickchart-complete:disabled:hover {\n",
              "    background-color: var(--disabled-bg-color);\n",
              "    fill: var(--disabled-fill-color);\n",
              "    box-shadow: none;\n",
              "  }\n",
              "\n",
              "  .colab-df-spinner {\n",
              "    border: 2px solid var(--fill-color);\n",
              "    border-color: transparent;\n",
              "    border-bottom-color: var(--fill-color);\n",
              "    animation:\n",
              "      spin 1s steps(1) infinite;\n",
              "  }\n",
              "\n",
              "  @keyframes spin {\n",
              "    0% {\n",
              "      border-color: transparent;\n",
              "      border-bottom-color: var(--fill-color);\n",
              "      border-left-color: var(--fill-color);\n",
              "    }\n",
              "    20% {\n",
              "      border-color: transparent;\n",
              "      border-left-color: var(--fill-color);\n",
              "      border-top-color: var(--fill-color);\n",
              "    }\n",
              "    30% {\n",
              "      border-color: transparent;\n",
              "      border-left-color: var(--fill-color);\n",
              "      border-top-color: var(--fill-color);\n",
              "      border-right-color: var(--fill-color);\n",
              "    }\n",
              "    40% {\n",
              "      border-color: transparent;\n",
              "      border-right-color: var(--fill-color);\n",
              "      border-top-color: var(--fill-color);\n",
              "    }\n",
              "    60% {\n",
              "      border-color: transparent;\n",
              "      border-right-color: var(--fill-color);\n",
              "    }\n",
              "    80% {\n",
              "      border-color: transparent;\n",
              "      border-right-color: var(--fill-color);\n",
              "      border-bottom-color: var(--fill-color);\n",
              "    }\n",
              "    90% {\n",
              "      border-color: transparent;\n",
              "      border-bottom-color: var(--fill-color);\n",
              "    }\n",
              "  }\n",
              "</style>\n",
              "\n",
              "      <script>\n",
              "        async function quickchart(key) {\n",
              "          const quickchartButtonEl =\n",
              "            document.querySelector('#' + key + ' button');\n",
              "          quickchartButtonEl.disabled = true;  // To prevent multiple clicks.\n",
              "          quickchartButtonEl.classList.add('colab-df-spinner');\n",
              "          try {\n",
              "            const charts = await google.colab.kernel.invokeFunction(\n",
              "                'suggestCharts', [key], {});\n",
              "          } catch (error) {\n",
              "            console.error('Error during call to suggestCharts:', error);\n",
              "          }\n",
              "          quickchartButtonEl.classList.remove('colab-df-spinner');\n",
              "          quickchartButtonEl.classList.add('colab-df-quickchart-complete');\n",
              "        }\n",
              "        (() => {\n",
              "          let quickchartButtonEl =\n",
              "            document.querySelector('#df-33cbf965-6b62-4e1f-805d-0f8791a1c35f button');\n",
              "          quickchartButtonEl.style.display =\n",
              "            google.colab.kernel.accessAllowed ? 'block' : 'none';\n",
              "        })();\n",
              "      </script>\n",
              "    </div>\n",
              "\n",
              "    </div>\n",
              "  </div>\n"
            ],
            "application/vnd.google.colaboratory.intrinsic+json": {
              "type": "dataframe",
              "variable_name": "df",
              "summary": "{\n  \"name\": \"df\",\n  \"rows\": 18,\n  \"fields\": [\n    {\n      \"column\": \"car_brand\",\n      \"properties\": {\n        \"dtype\": \"category\",\n        \"num_unique_values\": 1,\n        \"samples\": [\n          \"Kia\"\n        ],\n        \"semantic_type\": \"\",\n        \"description\": \"\"\n      }\n    },\n    {\n      \"column\": \"car_name\",\n      \"properties\": {\n        \"dtype\": \"string\",\n        \"num_unique_values\": 18,\n        \"samples\": [\n          \"Sonet\"\n        ],\n        \"semantic_type\": \"\",\n        \"description\": \"\"\n      }\n    },\n    {\n      \"column\": \"car_price\",\n      \"properties\": {\n        \"dtype\": \"string\",\n        \"num_unique_values\": 18,\n        \"samples\": [\n          \"\\u20b98.00L - 15.77L\"\n        ],\n        \"semantic_type\": \"\",\n        \"description\": \"\"\n      }\n    },\n    {\n      \"column\": \"price_type\",\n      \"properties\": {\n        \"dtype\": \"category\",\n        \"num_unique_values\": 1,\n        \"samples\": [\n          \"Ex-showroom\"\n        ],\n        \"semantic_type\": \"\",\n        \"description\": \"\"\n      }\n    },\n    {\n      \"column\": \"location\",\n      \"properties\": {\n        \"dtype\": \"category\",\n        \"num_unique_values\": 1,\n        \"samples\": [\n          \"new-delhi\"\n        ],\n        \"semantic_type\": \"\",\n        \"description\": \"\"\n      }\n    },\n    {\n      \"column\": \"car's url\",\n      \"properties\": {\n        \"dtype\": \"string\",\n        \"num_unique_values\": 18,\n        \"samples\": [\n          \"/new-cars/kia/sonet/\"\n        ],\n        \"semantic_type\": \"\",\n        \"description\": \"\"\n      }\n    }\n  ]\n}"
            }
          },
          "metadata": {},
          "execution_count": 28
        }
      ]
    },
    {
      "cell_type": "code",
      "source": [
        "with open('car_details.csv','r') as f:\n",
        "  print(f)"
      ],
      "metadata": {
        "colab": {
          "base_uri": "https://localhost:8080/"
        },
        "id": "RahyNoWV8sEM",
        "outputId": "5e6673a2-8d1e-4d28-a617-6e08e85acb61"
      },
      "execution_count": null,
      "outputs": [
        {
          "output_type": "stream",
          "name": "stdout",
          "text": [
            "<_io.TextIOWrapper name='car_details.csv' mode='r' encoding='utf-8'>\n"
          ]
        }
      ]
    },
    {
      "cell_type": "code",
      "source": [],
      "metadata": {
        "id": "suy_z2ru88S9"
      },
      "execution_count": null,
      "outputs": []
    }
  ]
}